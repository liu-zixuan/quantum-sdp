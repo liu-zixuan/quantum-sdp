{
 "cells": [
  {
   "cell_type": "code",
   "execution_count": 1,
   "metadata": {},
   "outputs": [],
   "source": [
    "import numpy as np\n",
    "import cvxpy as cp\n",
    "from qsys import basis, mbasis, sigma_0, sigma_x, sigma_y, sigma_z\n",
    "import qcvx\n",
    "\n",
    "# Pauli matrices\n",
    "I, X, Y, Z = sigma_0, sigma_x, sigma_y, sigma_z"
   ]
  },
  {
   "cell_type": "code",
   "execution_count": 2,
   "metadata": {},
   "outputs": [],
   "source": [
    "'''The systems of the quantum time flip\n",
    "      ____________________\n",
    "      |                  |\n",
    "0 ----|                  |---- 4\n",
    "      |                  |\n",
    "      |    2 -- C -- 3   |\n",
    " ctrl |                  |\n",
    "1 ----|                  |---- 5\n",
    "      |                  |\n",
    "      ____________________\n",
    "'''\n",
    "\n",
    "# the dimension of system A\n",
    "d = 2\n",
    "# compute the Choi operator of QTF\n",
    "dims = [d,2,d,d,d,2]\n",
    "v = np.einsum(np.eye(d), [0,2], np.eye(d), [3,4], basis(2,0), [1], basis(2,0), [5]) + \\\n",
    "    np.einsum(np.eye(d), [0,3], np.eye(d), [2,4], basis(2,1), [1], basis(2,1), [5])\n",
    "choi_qtf = np.einsum(v, range(6), v.conjugate(), range(6,12))\n",
    "\n",
    "choi1 = choi_qtf.reshape(np.prod(dims), -1)\n",
    "choi2 = np.einsum(choi_qtf, [0,1,2,3,4,5, 6,7,8,9,10,11], (I+X)/2, [1,7]).reshape(d**4*2, -1)\n",
    "choi3 = np.einsum(choi_qtf, [0,1,2,3,4,5, 6,7,8,9,4,11], mbasis(d,0), [0,6], (I+X)/2, [1,7]).reshape(d**2*2, -1)"
   ]
  },
  {
   "cell_type": "code",
   "execution_count": 3,
   "metadata": {},
   "outputs": [
    {
     "name": "stdout",
     "output_type": "stream",
     "text": [
      "('optimal', 0.7777777777798457) (1e-09)\n",
      "('optimal', 0.40068034300324606) (1e-09)\n",
      "('optimal', 0.17157287526474022) (1e-09)\n"
     ]
    }
   ],
   "source": [
    "def robustness(choi_S, dims, precision):\n",
    "    '''\n",
    "    Calculate the robustness of input-output indefiniteness,\n",
    "    which is an SDP problem.\n",
    "    '''\n",
    "    D = np.prod(dims)\n",
    "\n",
    "    T = cp.Variable((D,D), hermitian=True)\n",
    "    Sf = cp.Variable((D,D), hermitian=True)\n",
    "    Sb = cp.Variable((D,D), hermitian=True)\n",
    "\n",
    "    def ptrace(S, trace_list):\n",
    "        return qcvx.partial_trace(S, dims, trace_list, discard=False)\n",
    "    \n",
    "    cons = [\n",
    "        T >> 0,\n",
    "        Sf >> 0,\n",
    "        Sb >> 0,\n",
    "        ptrace(T, [1,2,3]) == ptrace(T, [0,1,2,3]),\n",
    "        ptrace(Sf, [1,2,3]) == ptrace(Sf, [0,1,2,3]),\n",
    "        ptrace(Sb, [1,2,3]) == ptrace(Sb, [0,1,2,3]),\n",
    "        choi_S + T == Sf + Sb,\n",
    "        ptrace(Sf, [3]) == ptrace(Sf, [2,3]),\n",
    "        ptrace(Sb, [3]) == ptrace(Sb, [1,3]),\n",
    "        ptrace(T, [3]) == ptrace(T, [1,3]) + ptrace(T, [2,3]) - ptrace(T, [1,2,3]),\n",
    "    ]\n",
    "\n",
    "    prob = cp.Problem(cp.Minimize(cp.real(cp.trace(T) / (dims[0]*dims[2]))), cons)\n",
    "    prob.solve(solver=cp.SCS, eps=precision)\n",
    "    return prob.status, prob.value\n",
    "\n",
    "precision = 1e-9\n",
    "print(robustness(choi1, [2*d,d,d,2*d], precision), f'({precision})')\n",
    "print(robustness(choi2, [d,d,d,2*d], precision), f'({precision})')\n",
    "print(robustness(choi3, [1,d,d,2], precision), f'({precision})')"
   ]
  }
 ],
 "metadata": {
  "kernelspec": {
   "display_name": "quantum",
   "language": "python",
   "name": "python3"
  },
  "language_info": {
   "codemirror_mode": {
    "name": "ipython",
    "version": 3
   },
   "file_extension": ".py",
   "mimetype": "text/x-python",
   "name": "python",
   "nbconvert_exporter": "python",
   "pygments_lexer": "ipython3",
   "version": "3.11.2"
  },
  "orig_nbformat": 4
 },
 "nbformat": 4,
 "nbformat_minor": 2
}
